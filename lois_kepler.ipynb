{
 "cells": [
  {
   "cell_type": "code",
   "execution_count": null,
   "metadata": {},
   "outputs": [],
   "source": [
    "import numpy as np\n",
    "import matplotlib.pyplot as plt\n",
    "import scipy.optimize as op"
   ]
  },
  {
   "cell_type": "code",
   "execution_count": null,
   "metadata": {},
   "outputs": [],
   "source": [
    "# listes\n",
    "t, M, u, theta, R, X, Y = [], [], [], [], [], [], []\n",
    "vx, vy, v = [], [], []\n",
    "ax, ay = [], []"
   ]
  },
  {
   "cell_type": "code",
   "execution_count": null,
   "metadata": {},
   "outputs": [],
   "source": [
    "# Equations de kepler\n",
    "\n",
    "def calculate_trajectory():\n",
    "    t, M, u, theta, R, X, Y = [], [], [], [], [], [], []\n",
    "    # Trajectoire\n",
    "    for i in range(0,N+6):\n",
    "        t.append(i * T_rev / N)\n",
    "        M.append(2 * np.pi / T_rev * t[i])\n",
    "        u.append(float(op.fsolve(lambda x : x - e * np.sin(x) - M[i], 0)))\n",
    "\n",
    "        # coordonées\n",
    "        theta.append( 2 * np.arctan((np.sqrt((1+e)/(1-e)) * np.tan(u[i] / 2))))\n",
    "        R.append(a * (1 - e ** 2) / (1 + e * np.cos(theta[i])))\n",
    "        ## Cartésiene\n",
    "        X.append(R[i] * np.cos(theta[i]))\n",
    "        Y.append(R[i] * np.sin(theta[i]))\n",
    "\n",
    "    return t,M,u,theta,R,X,Y\n",
    "\n",
    "# Vecteurs V et A\n",
    "\n",
    "def calculate_speed(X,Y,t):\n",
    "    vx, vy, v = [], [], []\n",
    "    # Vecteurs V et A\n",
    "    for i in range(0, N+5):\n",
    "        # vecteur vitesse\n",
    "        # méthode de dérivée numérique \n",
    "        # (Théorème des accroissements finis)\n",
    "        # exemple: vx(t4) = x5-x3/t5-t3\n",
    "        vx.append((X[i+1]-X[i-1])/(t[i+1]-t[i-1]))\n",
    "        vy.append((Y[i+1]-Y[i-1])/(t[i+1]-t[i-1]))\n",
    "        # norme de la vitesse\n",
    "        v.append(np.sqrt(vx[i]**2 + vy[i] **2 ) * 4.76)\n",
    "    return vx,vy,v\n",
    "\n",
    "def calculate_acceleration(vx,vy,t):\n",
    "    ax, ay = [], []\n",
    "    # Accelération\n",
    "    for i in range(0, N+4):\n",
    "        ax.append((vx[i+1]-vx[i-1])/(t[i+1]-t[i-1]))\n",
    "        ay.append((vy[i+1]-vy[i-1])/(t[i+1]-t[i-1]))\n",
    "    return ax,ay\n",
    "\n",
    "def plot_arrows(X,Y,vx,vy,ax,ay,point=40):\n",
    "    point = 40\n",
    "    print(\"Au point\", point, \"vitesse\", v[point], \"km/s\")\n",
    "    echelleV = 0.01 # echelles pour la longueur des vecteurs V & A\n",
    "    echelleA = 0.002\n",
    "\n",
    "    plt.arrow(X[point], Y[point], vx[point] * echelleV , vy[point] * echelleV, color=\"r\",length_includes_head=True, label=\"vitesse\")\n",
    "    plt.arrow(X[point], Y[point], ax[point] * echelleA , ay[point] * echelleA, color=\"b\",length_includes_head=True, label=\"accélération\")\n",
    "    plt.legend()\n",
    "    plt.show()\n",
    "\n",
    "def plot_in_time(X,v,t):\n",
    "    t1 = list()\n",
    "    for i in range(len(t) - 1):\n",
    "        t1.append(t[i])\n",
    "\n",
    "    plt.plot(t,X)\n",
    "    plt.plot(t1,v)\n",
    "    plt.show()\n"
   ]
  },
  {
   "cell_type": "code",
   "execution_count": null,
   "metadata": {},
   "outputs": [],
   "source": [
    "# Données astronomiques\n",
    "# Terre\n",
    "a = 1 # U.A\n",
    "T_rev = 1 # ans\n",
    "e = 0.017 # Excentricité S.U\n",
    "N = 40 # positions tracées\n",
    "\n",
    "t,M,u,theta,R,X,Y = calculate_trajectory()\n",
    "vx,vy,v = calculate_speed(X,Y,t)\n",
    "ax,ay = calculate_acceleration(vx,vy,t)\n",
    "\n",
    "plot_arrows(X,Y,vx,vy,ax,ay,40)\n",
    "plot_in_time(X,v,t)\n",
    "\n",
    "plt.plot(X,Y,\"+k\")\n",
    "plt.scatter([0],[0], s=100, c=\"orange\")\n",
    "plt.title(\"Position de la terre au tours du soleil\")\n",
    "plt.axis(\"square\")\n",
    "plt.grid()\n",
    "plt.show()"
   ]
  },
  {
   "cell_type": "code",
   "execution_count": null,
   "metadata": {},
   "outputs": [],
   "source": [
    "# Comète Halley\n",
    "a = 17.83 # U.A\n",
    "T_rev = 76.09 # ans\n",
    "e = 0.967 # Excentricité S.U\n",
    "N = 40 # positions tracées\n",
    "\n",
    "t,M,u,theta,R,X,Y = calculate_trajectory()\n",
    "vx,vy,v = calculate_speed(X,Y,t)\n",
    "ax,ay = calculate_acceleration(vx,vy,t)\n",
    "\n",
    "plot_arrows(X,Y,vx,vy,ax,ay,40)\n",
    "\n",
    "plt.plot(X,Y,\"+k\")\n",
    "plt.scatter([0],[0], s=100, c=\"orange\")\n",
    "plt.title(\"Position du comète Halley au tours du soleil\")\n",
    "#plt.axis(\"square\")\n",
    "plt.grid()\n",
    "plt.show()"
   ]
  },
  {
   "cell_type": "code",
   "execution_count": null,
   "metadata": {},
   "outputs": [],
   "source": []
  }
 ],
 "metadata": {
  "interpreter": {
   "hash": "e3e3b631d0578064596570627667cf6d3255b0ded78241c485c6d8d72cb2b64f"
  },
  "kernelspec": {
   "display_name": "Python 3.9.5 ('base')",
   "language": "python",
   "name": "python3"
  },
  "language_info": {
   "codemirror_mode": {
    "name": "ipython",
    "version": 3
   },
   "file_extension": ".py",
   "mimetype": "text/x-python",
   "name": "python",
   "nbconvert_exporter": "python",
   "pygments_lexer": "ipython3",
   "version": "3.9.5"
  },
  "orig_nbformat": 4
 },
 "nbformat": 4,
 "nbformat_minor": 2
}
