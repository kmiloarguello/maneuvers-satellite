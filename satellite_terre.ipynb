{
 "cells": [
  {
   "cell_type": "markdown",
   "metadata": {},
   "source": [
    "### Position\n",
    "\n",
    "> \n",
    "> ref: https://www.youtube.com/watch?v=_hAAyAJMlMI\n",
    ">  \n",
    "\n",
    "px := Position X\n",
    "py := Position Y\n",
    "Alpha := angle entre l'horizontal\n",
    "R := Distance\n",
    "\n",
    "\n",
    "<img src=\"./image1.png\" width=\"300\" />"
   ]
  },
  {
   "cell_type": "markdown",
   "metadata": {},
   "source": [
    "### Acceleration\n",
    "\n",
    "vecteur a := vers le centre de la terre\n",
    "\n",
    "\n",
    "<img src=\"./image2.png\" width=\"300\" />\n",
    "\n",
    "<img src=\"./image3.png\" width=\"300\" />\n",
    "\n",
    "<img src=\"./image4.png\" width=\"300\" />\n"
   ]
  },
  {
   "cell_type": "code",
   "execution_count": 18,
   "metadata": {},
   "outputs": [],
   "source": [
    "import numpy as np\n",
    "import matplotlib.pyplot as plt"
   ]
  },
  {
   "cell_type": "code",
   "execution_count": 2,
   "metadata": {},
   "outputs": [],
   "source": [
    "# constantes physiques\n",
    "G = 6.67e-11 # Cte gravitation\n",
    "MasseTerre = 6e24 # kg"
   ]
  },
  {
   "cell_type": "code",
   "execution_count": 24,
   "metadata": {},
   "outputs": [
    {
     "data": {
      "image/png": "[encoded data removed]",
      "text/plain": [
       "<Figure size 432x288 with 1 Axes>"
      ]
     },
     "metadata": {
      "needs_background": "light"
     },
     "output_type": "display_data"
    }
   ],
   "source": [
    "# position initiales\n",
    "p0x = -5e7 # m\n",
    "p0y = +3e7\n",
    "\n",
    "# vitesses initiales\n",
    "v0x = 100\n",
    "v0y = 0\n",
    "\n",
    "x = [p0x]\n",
    "y = [p0y]\n",
    "\n",
    "# intervalle de temps\n",
    "Dt = 500 # secondes\n",
    "\n",
    "for i in range(0,3):\n",
    "    # Distance entre le satellite et centre de terre\n",
    "    R = np.sqrt(p0x ** 2 + p0y ** 2)\n",
    "    # 58309518.948453 m\n",
    "\n",
    "    # Acceleration subi par le satellite \n",
    "    a = G * MasseTerre / (R ** 2) \n",
    "    # 0.11770588235294119\n",
    "\n",
    "    # Cas particuliers\n",
    "    if (p0x == 0):\n",
    "        ax = 0\n",
    "        ay = a\n",
    "    if (p0y == 0):\n",
    "        ay = 0\n",
    "        ax = a\n",
    "        \n",
    "    # Autres cas\n",
    "    if (p0x != 0) and (p0y != 0):\n",
    "        alpha = np.abs(np.arctan(p0y / R))\n",
    "        ax = a * np.cos(alpha)\n",
    "        ay = a * np.sin(alpha)\n",
    "\n",
    "    # Signe de l'accélération\n",
    "    if (p0x > 0) and (p0y > 0):\n",
    "        ax = -ax\n",
    "        ay = -ay\n",
    "    if (p0x > 0) and (p0y < 0):\n",
    "        ax = -ax\n",
    "        ay = +ay\n",
    "    if (p0x < 0) and (p0y > 0):\n",
    "        ax = +ax\n",
    "        ay = -ay\n",
    "    if (p0x < 0) and (p0y < 0):\n",
    "        ax = +ax\n",
    "        ay = +ay\n",
    "\n",
    "    vtx = v0x + ax * Dt\n",
    "    vty = v0y + ay * Dt\n",
    "\n",
    "    ptx = p0x + ( v0x * Dt ) + ( ax * Dt ** 2) / 2 # Position X à l'instant t\n",
    "    pty = p0y + ( v0y * Dt ) + ( ay * Dt ** 2) / 2\n",
    "\n",
    "    # mettre à jour la position et vitesse\n",
    "    p0x = ptx\n",
    "    p0y = pty\n",
    "    v0x = vtx\n",
    "    v0y = vty\n",
    "\n",
    "    x.append(ptx)\n",
    "    y.append(pty)\n",
    "\n",
    "plt.plot(x,y)\n",
    "plt.title('Variation de la position du satellite')\n",
    "plt.xlabel('Position x (m)')\n",
    "plt.ylabel('Position y (m)')\n",
    "plt.show()"
   ]
  },
  {
   "cell_type": "code",
   "execution_count": null,
   "metadata": {},
   "outputs": [],
   "source": []
  }
 ],
 "metadata": {
  "interpreter": {
   "hash": "e3e3b631d0578064596570627667cf6d3255b0ded78241c485c6d8d72cb2b64f"
  },
  "kernelspec": {
   "display_name": "Python 3.9.5 ('base')",
   "language": "python",
   "name": "python3"
  },
  "language_info": {
   "codemirror_mode": {
    "name": "ipython",
    "version": 3
   },
   "file_extension": ".py",
   "mimetype": "text/x-python",
   "name": "python",
   "nbconvert_exporter": "python",
   "pygments_lexer": "ipython3",
   "version": "3.9.5"
  },
  "orig_nbformat": 4
 },
 "nbformat": 4,
 "nbformat_minor": 2
}
