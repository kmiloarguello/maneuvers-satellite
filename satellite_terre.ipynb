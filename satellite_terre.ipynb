{
 "cells": [
  {
   "cell_type": "markdown",
   "metadata": {},
   "source": [
    "### Position\n",
    "\n",
    "> \n",
    "> ref: https://www.youtube.com/watch?v=_hAAyAJMlMI\n",
    ">  \n",
    "\n",
    "px := Position X\n",
    "py := Position Y\n",
    "Alpha := angle entre l'horizontal\n",
    "R := Distance\n",
    "\n",
    "\n",
    "<img src=\"./image1.png\" width=\"300\" />"
   ]
  },
  {
   "cell_type": "markdown",
   "metadata": {},
   "source": [
    "### Acceleration\n",
    "\n",
    "vecteur a := vers le centre de la terre\n",
    "\n",
    "\n",
    "<img src=\"./image2.png\" width=\"300\" />\n",
    "\n",
    "<img src=\"./image3.png\" width=\"300\" />\n",
    "\n",
    "<img src=\"./image4.png\" width=\"300\" />\n"
   ]
  },
  {
   "cell_type": "code",
   "execution_count": 1,
   "metadata": {},
   "outputs": [],
   "source": [
    "import numpy as np"
   ]
  },
  {
   "cell_type": "code",
   "execution_count": 2,
   "metadata": {},
   "outputs": [],
   "source": [
    "# constantes physiques\n",
    "G = 6.67e-11 # Cte gravitation\n",
    "MasseTerre = 6e24 # kg"
   ]
  },
  {
   "cell_type": "code",
   "execution_count": 11,
   "metadata": {},
   "outputs": [
    {
     "name": "stdout",
     "output_type": "stream",
     "text": [
      "R = 58309518.948453\n",
      "ax = 0.1046654627712849\n",
      "ay = -0.053849936335683884\n"
     ]
    }
   ],
   "source": [
    "# position initiales\n",
    "# À gauche\n",
    "p0x = -5e7 # m\n",
    "p0y = +3e7\n",
    "\n",
    "# Distance entre le satellite et centre de terre\n",
    "R = np.sqrt(p0x ** 2 + p0y ** 2)\n",
    "# 58309518.948453 m\n",
    "\n",
    "# Acceleration subi par le satellite \n",
    "a = G * MasseTerre / (R ** 2) \n",
    "# 0.11770588235294119\n",
    "\n",
    "# Cas particuliers\n",
    "if (p0x == 0):\n",
    "    ax = 0\n",
    "    ay = a\n",
    "if (p0y == 0):\n",
    "    ay = 0\n",
    "    ax = a\n",
    "    \n",
    "# Autres cas\n",
    "if (p0x != 0) and (p0y != 0):\n",
    "    alpha = np.abs(np.arctan(p0y / R))\n",
    "    ax = a * np.cos(alpha)\n",
    "    ay = a * np.sin(alpha)\n",
    "\n",
    "# Signe de l'accélération\n",
    "if (p0x > 0) and (p0y > 0):\n",
    "    ax = -ax\n",
    "    ay = -ay\n",
    "if (p0x > 0) and (p0y < 0):\n",
    "    ax = -ax\n",
    "    ay = +ay\n",
    "if (p0x < 0) and (p0y > 0):\n",
    "    ax = +ax\n",
    "    ay = -ay\n",
    "if (p0x < 0) and (p0y < 0):\n",
    "    ax = +ax\n",
    "    ay = +ay\n",
    "\n",
    "print(\"R =\", R)\n",
    "print(\"ax =\", ax)\n",
    "print(\"ay =\", ay)"
   ]
  },
  {
   "cell_type": "code",
   "execution_count": null,
   "metadata": {},
   "outputs": [],
   "source": []
  }
 ],
 "metadata": {
  "interpreter": {
   "hash": "e3e3b631d0578064596570627667cf6d3255b0ded78241c485c6d8d72cb2b64f"
  },
  "kernelspec": {
   "display_name": "Python 3.9.5 ('base')",
   "language": "python",
   "name": "python3"
  },
  "language_info": {
   "codemirror_mode": {
    "name": "ipython",
    "version": 3
   },
   "file_extension": ".py",
   "mimetype": "text/x-python",
   "name": "python",
   "nbconvert_exporter": "python",
   "pygments_lexer": "ipython3",
   "version": "3.9.5"
  },
  "orig_nbformat": 4
 },
 "nbformat": 4,
 "nbformat_minor": 2
}
