{
 "cells": [
  {
   "cell_type": "markdown",
   "metadata": {},
   "source": [
    "# Manoeuvres d'un satellite\n",
    "\n",
    "**Modélisation Numérique en Physique - S2**\n",
    "\n",
    "**ARGUELLO Camilo**\n",
    "\n",
    "**SINNATHAMBY Thushara**\n",
    "\n",
    "## Tableau\n",
    "\n",
    "1. Introduction\n",
    "2. Trajectoire d'un satellite artificiel\n",
    "3. Analyse de la vitesse du satellite\n",
    "4. Analyse du transfert de Hohmann\n",
    "5. Conclusion"
   ]
  },
  {
   "cell_type": "markdown",
   "metadata": {},
   "source": [
    "## Partie 1 - Trajectoire d'un satellite artificiel\n",
    "\n",
    "On cherche à décrire le mouvement d'un satellite, de masse $m_1$, qui tourne autour de la Terre, de masse $ m_2 $.    \n",
    "Pour étudier ce mouvement, on se place dans un référentiel galiléen, en considérant un problème à un corps. \n",
    "\n",
    "On pose **r** le vecteur position du corps 1 (satellite) par rapport au corps 2 (Terre) : $ r = r_1-r_2 $\n",
    "\n",
    "La seule force qui intervient est le poids (P) auquel est soumis le satellite.      \n",
    "Le poids du satellite est assimilé à la force d'attraction gravitationnelle $ F_{1/2} $ qu'exerce la Terre sur ce satellite :  \n",
    "$$ F_{1/2} = -\\frac{G.m_1.m_2}{(r_1 - r_2)^3}.(r_1 - r_2) $$\n",
    "\n",
    "On introduit la masse réduite : $$ µ = \\frac{m_1.m_2}{(m_1+m_2)^3} $$\n",
    "\n",
    "Et la masse totale : $$ M = m_1 + m_2 $$ \n",
    "\n",
    "En simplifiant, on obtient la force $$ F_{1/2} = -\\frac{G.µ.M}{r^3} $$ \n",
    "\n",
    "La deuxième loi de Newton (PFD) permet de poser :\n",
    "\n",
    "$$ \\sum_i \\vec{F_i} = m . \\vec{a} $$\n",
    "\n",
    "Alors : $$ F_{1/2} = m_1. \\frac{d^2r_1}{dt^2} $$\n",
    "\n",
    "$$ - F_{2/1} = m_2. \\frac{d^2r_2}{dt^2} $$\n",
    "\n",
    "\n",
    "\n",
    "> A FINIR "
   ]
  },
  {
   "cell_type": "code",
   "execution_count": 1,
   "metadata": {},
   "outputs": [],
   "source": [
    "import numpy as np\n",
    "import matplotlib.pyplot as plt\n",
    "from scipy.integrate import odeint\n",
    "import scipy.optimize as op"
   ]
  },
  {
   "cell_type": "markdown",
   "metadata": {},
   "source": [
    "Les solutions aux équations du mouvement pour le satellite sont des orbites elliptiques avec la Terre à un foyer de l'ellipse. La période de l'orbite $T$ est liée au demi-grand axe $a$ de l'ellipse:\n",
    "\n",
    "$$\n",
    "T^2 = \\frac{4 \\pi^2 }{G M} a^3\n",
    "$$\n",
    "\n",
    "On considère les mesure de temps en années, la distance en UA (Unités Astronomiques, `1 UA = 1.50e11 m`), ainsi que la rélation selon la troisième loi de Kepler $T^2 = a^3$."
   ]
  },
  {
   "cell_type": "code",
   "execution_count": 2,
   "metadata": {},
   "outputs": [],
   "source": [
    "# Global variables\n",
    "#G = 6.67e-11 # m3 kg-1 s-2\n",
    "# Assuming that T^2 = a\n",
    "a = 1 # U.A\n",
    "T_rev = 1 # ans\n",
    "G = 4 * np.pi ** 2"
   ]
  },
  {
   "cell_type": "code",
   "execution_count": 3,
   "metadata": {},
   "outputs": [
    {
     "name": "stdout",
     "output_type": "stream",
     "text": [
      "6.283185307179586\n"
     ]
    }
   ],
   "source": [
    "# Set initial Position and speed\n",
    "r_0 = 1.0 # radius orbit\n",
    "M = 1.0 # Mass \n",
    "\n",
    "v = np.sqrt(G * M / r_0)\n",
    "\n",
    "print(v)"
   ]
  },
  {
   "cell_type": "markdown",
   "metadata": {},
   "source": [
    "<img src=\"https://textimgs.s3.amazonaws.com/boundless-physics/newton-cannon.svg\" style=\"display:block;margin:auto;width:300px;\"/>\n",
    "\n",
    "Si on suppose que $\\vec{r} = (x,y)$, et $\\vec{v} = \\frac{d \\vec{r}}{dt} \\rightarrow \\vec{v} = (v_x, v_y)$ \n",
    "\n",
    "$$\n",
    "\n",
    "X =\n",
    "\n",
    "\\left[\\begin{matrix}\n",
    "x\\\\\n",
    "y\\\\\n",
    "v_x\\\\\n",
    "v_y\\\\\n",
    "\\end{matrix}\\right]\n",
    "\n",
    "$$\n",
    "\n",
    "$$\n",
    "\n",
    "f(X,t) =\n",
    "\n",
    "\\left[\\begin{matrix}\n",
    "v_x\\\\\n",
    "v_y\\\\\n",
    "- \\frac{GM_x}{\\left(\\sqrt{x^2+y^2}\\right)^3} \\\\\n",
    "- \\frac{GM_y}{\\left(\\sqrt{x^2+y^2}\\right)^3} \\\\\n",
    "\\end{matrix}\\right]\n",
    "\n",
    "$$"
   ]
  },
  {
   "cell_type": "code",
   "execution_count": 4,
   "metadata": {},
   "outputs": [],
   "source": [
    "def derivee(v,t):\n",
    "    # Initialisation de la dérivée\n",
    "    dv = np.empty(v.shape)\n",
    "    # Dérivée de la vitesse\n",
    "    dv[0] = v[2]\n",
    "    dv[1] = v[3]\n",
    "    r = np.sqrt( v[0] ** 2 + v[1] ** 2 )\n",
    "    dv[2] = -( G * M * v[0] ) / r ** 3\n",
    "    dv[3] = -( G * M * v[1] ) / r ** 3\n",
    "\n",
    "    return dv"
   ]
  },
  {
   "cell_type": "code",
   "execution_count": 5,
   "metadata": {},
   "outputs": [],
   "source": [
    "# Position initial\n",
    "x_0 = 1 # AU\n",
    "y_0 = 0 # AU\n",
    "# Tangencial Speed\n",
    "v_x_0 = 0 # AU/year\n",
    "v_y_0 = 4 # AU/year\n",
    "\n",
    "# x0, y0, vx0, vy0\n",
    "X0 = [ x_0, y_0, v_x_0, v_y_0]\n",
    "\n",
    "t0 = 0.\n",
    "tf = 10 # 10 years\n",
    "tau = .001 # year"
   ]
  },
  {
   "cell_type": "code",
   "execution_count": 7,
   "metadata": {},
   "outputs": [
    {
     "data": {
      "image/png": "[encoded data removed]",
      "text/plain": [
       "<Figure size 432x288 with 3 Axes>"
      ]
     },
     "metadata": {
      "needs_background": "light"
     },
     "output_type": "display_data"
    }
   ],
   "source": [
    "t = np.arange(t0, tf, tau)\n",
    "\n",
    "X = odeint(derivee, X0, t)\n",
    "x = X[:,0] \n",
    "y = X[:,1]\n",
    "\n",
    "vx = X[:,2] # values at any given time index\n",
    "vy = X[:,3]\n",
    "\n",
    "plt.subplot(3,1,1)\n",
    "plt.title(r'Using odeint with $x$ = %g, $v_y$ = %g, and $\\tau$ = %g' \\\n",
    "      % (x_0,v_y_0,tau))\n",
    "plt.plot(x,y)\n",
    "\n",
    "centerx = 0.\n",
    "centery = 0.\n",
    "plt.plot(centerx,centery,'ko')\n",
    "plt.axis('equal')\n",
    "plt.grid()\n",
    "\n",
    "plt.subplot(3,1,2)\n",
    "eps = (1/2) * M * (vx**2 + vy**2) - G * M/np.sqrt(x**2 + y**2)\n",
    "plt.plot(t,eps)\n",
    "eps_plot_min = 1.1 * np.min(eps)\n",
    "plt.axis([np.min(t),np.max(t),eps_plot_min,0])\n",
    "plt.ylabel('E/m')\n",
    "plt.grid()\n",
    "\n",
    "l = x * vy - y * vx\n",
    "plt.subplot(3,1,3)\n",
    "plt.plot(t,l)\n",
    "plt.ylabel('L/m')\n",
    "eps_plot_min = 1.1 * np.min(l)\n",
    "plt.axis([np.min(t),np.max(t),eps_plot_min,0])\n",
    "plt.grid()\n",
    "plt.xlabel('t')\n",
    "\n",
    "plt.show()"
   ]
  },
  {
   "cell_type": "markdown",
   "metadata": {},
   "source": [
    "$$\n",
    "E = T + U\n",
    "$$\n",
    "\n",
    "Avec $T$ = énergie cinétique, $U$ = énergie potentielle\n",
    "\n",
    "$$\n",
    "E = \\frac{1}{2} m \\vec{v}^2 + \\frac{-G M}{\\sqrt{x^2+y^2}}\n",
    "$$"
   ]
  },
  {
   "cell_type": "code",
   "execution_count": 8,
   "metadata": {},
   "outputs": [
    {
     "data": {
      "image/png": "[encoded data removed]",
      "text/plain": [
       "<Figure size 432x288 with 3 Axes>"
      ]
     },
     "metadata": {
      "needs_background": "light"
     },
     "output_type": "display_data"
    }
   ],
   "source": [
    "def Euler(start, end, step, v_ini, derivee):\n",
    "    '''\n",
    "        Application de la méthode d'Euler\n",
    "    '''\n",
    "    # Création du tableau temps\n",
    "    interval = end - start                     # Intervalle\n",
    "    num_points = int(interval / step) + 1      # Nombre d'éléments\n",
    "    t = np.linspace(start, end, num_points)    # Tableau temps t\n",
    "\n",
    "    # Initialisation du tableau v\n",
    "    v = np.empty((4, num_points))\n",
    "\n",
    "    # Condition initiale\n",
    "    v[:, 0] = v_ini \n",
    "\n",
    "    # Boucle for\n",
    "    for i in range(num_points - 1):\n",
    "        v[:, i + 1] = v[:, i] + step * derivee(v[:, i], t[i])\n",
    "\n",
    "    # Argument de sortie\n",
    "    return t, v\n",
    "\n",
    "# Méthode d'Euler\n",
    "t, v = Euler(t0, tf, tau, X0, derivee)\n",
    "\n",
    "x = v[0,:] \n",
    "y = v[1,:]\n",
    "vx = v[2,:] # values at any given time index\n",
    "vy = v[3,:]\n",
    "\n",
    "plt.subplot(3,1,1)\n",
    "plt.title(r'Using Euler with $x$ = %g, $v_y$ = %g, and $\\tau$ = %g' \\\n",
    "      % (x_0,v_y_0,tau))\n",
    "plt.plot(x,y)\n",
    "centerx = 0.\n",
    "centery = 0.\n",
    "plt.plot(centerx,centery,'ko')\n",
    "plt.axis('equal')\n",
    "plt.grid()\n",
    "\n",
    "plt.subplot(3,1,2)\n",
    "eps = (1/2) * M * (vx**2 + vy**2) - G * M/np.sqrt(x**2 + y**2)\n",
    "plt.plot(t,eps)\n",
    "eps_plot_min = 1.1 * np.min(eps)\n",
    "plt.axis([np.min(t),np.max(t),eps_plot_min,0])\n",
    "plt.ylabel('E/m')\n",
    "plt.grid()\n",
    "\n",
    "l = x * vy - y * vx\n",
    "plt.subplot(3,1,3)\n",
    "plt.plot(t,l)\n",
    "plt.ylabel('L')\n",
    "eps_plot_min = 1.1 * np.min(l)\n",
    "plt.axis([np.min(t),np.max(t),eps_plot_min,0])\n",
    "plt.grid()\n",
    "plt.xlabel('t')\n",
    "\n",
    "plt.show()"
   ]
  },
  {
   "cell_type": "code",
   "execution_count": 14,
   "metadata": {},
   "outputs": [
    {
     "data": {
      "image/png": "[encoded data removed]",
      "text/plain": [
       "<Figure size 432x288 with 3 Axes>"
      ]
     },
     "metadata": {
      "needs_background": "light"
     },
     "output_type": "display_data"
    }
   ],
   "source": [
    "def rk4(start, end, step, v_ini, derivee, ordre):\n",
    "    '''\n",
    "        Application de la méthode rk4\n",
    "    '''\n",
    "    # Création du tableau temps\n",
    "    interval = end - start                     # Intervalle\n",
    "    num_points = int(interval / step) + 1      # Nombre d'éléments\n",
    "    t = np.linspace(start, end, num_points)    # Tableau temps t\n",
    "\n",
    "    # Initialisation du tableau v\n",
    "    v = np.empty((ordre, num_points))\n",
    "\n",
    "    # Condition initiale\n",
    "    v[:, 0] = v_ini \n",
    "\n",
    "    # Boucle for\n",
    "    for i in range(num_points - 1):\n",
    "        d1 = derivee(v[:, i], t[i])\n",
    "        d2 = derivee(v[:, i] + step / 2 * d1, t[i] + step / 2)\n",
    "        d3 = derivee(v[:, i] + step / 2 * d2, t[i] + step / 2)\n",
    "        d4 = derivee(v[:, i] + step * d3, t[i] + step)\n",
    "        v[:, i + 1] = v[:, i] + step / 6 * (d1 + 2 * d2 + 2 * d3 + d4)\n",
    "\n",
    "    # Argument de sortie\n",
    "    return t, v\n",
    "\n",
    "# Méthode d'Euler\n",
    "t, v = rk4(t0, tf, tau, X0, derivee, ordre=4)\n",
    "\n",
    "x = v[0,:] \n",
    "y = v[1,:]\n",
    "vx = v[2,:] # values at any given time index\n",
    "vy = v[3,:]\n",
    "\n",
    "plt.subplot(3,1,1)\n",
    "plt.title(r'Using RK4 with $x$ = %g, $v_y$ = %g, and $\\tau$ = %g' \\\n",
    "      % (x_0,v_y_0,tau))\n",
    "plt.plot(x,y)\n",
    "centerx = 0.\n",
    "centery = 0.\n",
    "plt.plot(centerx,centery,'ko')\n",
    "plt.axis('equal')\n",
    "plt.grid()\n",
    "\n",
    "plt.subplot(3,1,2)\n",
    "\n",
    "eps = (1/2) * M * (vx**2 + vy**2) - G * M/np.sqrt(x**2 + y**2)\n",
    "plt.plot(t,eps)\n",
    "eps_plot_min = 1.1 * np.min(eps)\n",
    "plt.axis([np.min(t),np.max(t),eps_plot_min,0])\n",
    "plt.ylabel('E/m')\n",
    "plt.grid()\n",
    "\n",
    "l = x * vy - y * vx\n",
    "plt.subplot(3,1,3)\n",
    "plt.plot(t,l)\n",
    "plt.ylabel('L/m')\n",
    "eps_plot_min = 1.1 * np.min(l)\n",
    "plt.axis([np.min(t),np.max(t),eps_plot_min,0])\n",
    "plt.grid()\n",
    "plt.xlabel('t')\n",
    "plt.show()"
   ]
  },
  {
   "cell_type": "markdown",
   "metadata": {},
   "source": [
    "$$\n",
    "e = \\sqrt{1 + \\frac{2 E L^2}{m a^2}}\n",
    "$$"
   ]
  },
  {
   "cell_type": "code",
   "execution_count": 26,
   "metadata": {},
   "outputs": [
    {
     "name": "stdout",
     "output_type": "stream",
     "text": [
      "-31.478437294547366\n",
      "3.999999713777\n",
      "1.0\n",
      "1\n",
      "0.9482979569065897\n"
     ]
    }
   ],
   "source": [
    "print(np.mean(eps))\n",
    "print(np.mean(l))\n",
    "print(M)\n",
    "print(a)\n",
    "\n",
    "#circular orbit: e=0\n",
    "#elliptic orbit: 0<e<1\n",
    "#parabolic trajectory: e=1\n",
    "#hyperbolic trajectory: e>1\n",
    "\n",
    "#ex = np.sqrt(1 + ( 2 * np.mean(eps) * np.mean(l) ** 2 / M * a ** 2 ))\n",
    "ex = np.sqrt(1 + ( 2 * np.mean(eps) * np.mean(l) ** 2 / 1e10 * 1e3 ** 2 ))\n",
    "print(ex)"
   ]
  },
  {
   "cell_type": "markdown",
   "metadata": {},
   "source": [
    "\n",
    "### Trajectoire Elliptique\n",
    "\n",
    "Le mouvement d'un satellite porsuivre une trajectoire donnée par les sections coniques. On va s'intéresser pour des cas où la trajectoire donne comme résultat une ellipse.\n",
    "\n",
    "Soient $(d)$ une droite verticale qu'on appel `directrice`, $F$ un point qui n'appartient pas à $(di)$, qu'on appellarait `foyer`, $M$ un `point` sur l'ellipse, et $d$ comme la `distance` de $M$ jusqu'à $F$.\n",
    "\n",
    "<img src=\"https://upload.wikimedia.org/wikipedia/commons/thumb/c/ce/Ellipse_foyer_directrice2.svg/660px-Ellipse_foyer_directrice2.svg.png\" style=\"display:block;margin:auto;width:400px\" />\n",
    "\n",
    "À partir de ce raisonnement on peut trouver une rélacion qu'on appel l'`excentricité` $e$.\n",
    "\n",
    "$$\n",
    "e = \\frac{d(M,F)}{d(M,(d))}\n",
    "$$\n",
    "\n",
    "Dans l'ellipse on peut définir les grandeurs présents:\n",
    "\n",
    "- `a` demi grand axe\n",
    "- `b` demi petit axe\n",
    "- `c` distance entre le centre el le foyer\n",
    "- `h` distance avec la directrice et le foyer\n",
    "- `e` excentricité $\\in [0,1]$ \n",
    "- `p` demi lactus rectum\n",
    "\n",
    "<img src=\"https://upload.wikimedia.org/wikipedia/commons/thumb/7/72/EllipseVal.svg/880px-EllipseVal.svg.png\" style=\"display:block;margin:auto;width:400px\" >\n",
    "\n",
    "Dans le plane cartesienne, l'équation de l'ellipse est donné par: \n",
    "\n",
    "$$\n",
    "\\left( \\frac{x}{a} \\right)^2 + \\left( \\frac{y}{b} \\right)^2 = 1\n",
    "$$\n",
    "\n",
    "Avec $a \\gt b \\gt 0 $.\n",
    "\n",
    "La distance du centre jusqu'à l'une de foyers: \n",
    "\n",
    "$$\n",
    "c = \\sqrt{a^2 - b^2} \n",
    "$$\n",
    "\n",
    "L'excentricité $e$:\n",
    "\n",
    "$$\n",
    "e = \\frac{c}{a} = \\frac{ \\sqrt{a^2 - b^2} }{a} =  \\sqrt{ 1 - \\left(\\frac{b}{a}\\right)^2}\n",
    "$$"
   ]
  },
  {
   "cell_type": "code",
   "execution_count": 12,
   "metadata": {},
   "outputs": [],
   "source": [
    "def calculate_trajectory(e):\n",
    "    t, M, u, theta, R, X, Y = [], [], [], [], [], [], []\n",
    "    N = 40\n",
    "    # Trajectoire\n",
    "    for i in range(0,N+6):\n",
    "        t.append(i * T_rev / N)\n",
    "        M.append(2 * np.pi / T_rev * t[i])\n",
    "        u.append(float(op.fsolve(lambda x : x - e * np.sin(x) - M[i], 0)))\n",
    "        # coordonées\n",
    "        theta.append( 2 * np.arctan((np.sqrt((1+e)/(1-e)) * np.tan(u[i] / 2))))\n",
    "        R.append(a * (1 - e ** 2) / (1 + e * np.cos(theta[i])))\n",
    "        ## Cartésiene\n",
    "        X.append(R[i] * np.cos(theta[i]))\n",
    "        Y.append(R[i] * np.sin(theta[i]))\n",
    "    return X, Y"
   ]
  },
  {
   "cell_type": "markdown",
   "metadata": {},
   "source": [
    "## Partie 2 - Analyse de la vitesse du satellite"
   ]
  },
  {
   "cell_type": "markdown",
   "metadata": {},
   "source": [
    "## Partie 3 - Analyse du transfert de Hohmann"
   ]
  }
 ],
 "metadata": {
  "interpreter": {
   "hash": "e3e3b631d0578064596570627667cf6d3255b0ded78241c485c6d8d72cb2b64f"
  },
  "kernelspec": {
   "display_name": "Python 3.9.5 ('base')",
   "language": "python",
   "name": "python3"
  },
  "language_info": {
   "codemirror_mode": {
    "name": "ipython",
    "version": 3
   },
   "file_extension": ".py",
   "mimetype": "text/x-python",
   "name": "python",
   "nbconvert_exporter": "python",
   "pygments_lexer": "ipython3",
   "version": "3.9.5"
  },
  "orig_nbformat": 4
 },
 "nbformat": 4,
 "nbformat_minor": 2
}
