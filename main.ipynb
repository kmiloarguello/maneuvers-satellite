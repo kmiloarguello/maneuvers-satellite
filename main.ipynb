{
 "cells": [
  {
   "cell_type": "markdown",
   "metadata": {},
   "source": [
    "# Manoeuvres d'un satellite"
   ]
  },
  {
   "cell_type": "markdown",
   "metadata": {},
   "source": [
    "## Partie 1 - Trajectoire\n",
    "\n",
    "On décrit le mouvement d'un objet de masse $m$, dans un référentiel galiléen, avec des forces de frottement négligeables.\n",
    "\n",
    "À l'aide de la deuxième loi de Newton ou le Principe Fondamental de la dynamique (PFD) on a:\n",
    "\n",
    "$$\n",
    "\\sum_i \\vec{F_i} = m . \\vec{a} \n",
    "$$\n",
    "\n",
    "> tu pourras travailler ici"
   ]
  },
  {
   "cell_type": "code",
   "execution_count": 1,
   "metadata": {},
   "outputs": [],
   "source": [
    "import numpy as np\n",
    "import matplotlib.pyplot as plt\n",
    "from scipy.integrate import odeint"
   ]
  },
  {
   "cell_type": "code",
   "execution_count": 2,
   "metadata": {},
   "outputs": [],
   "source": [
    "# Global variables\n",
    "# G = 6.67e-11 # m3 kg-1 s-2\n",
    "G = 4 * np.pi ** 2"
   ]
  },
  {
   "cell_type": "code",
   "execution_count": 3,
   "metadata": {},
   "outputs": [
    {
     "name": "stdout",
     "output_type": "stream",
     "text": [
      "6.283185307179586\n"
     ]
    }
   ],
   "source": [
    "# Set initial Position and speed\n",
    "r_0 = 1.0 # radius orbit\n",
    "M = 1.0 # Mass \n",
    "\n",
    "v = np.sqrt(G * M / r_0)\n",
    "\n",
    "print(v)"
   ]
  },
  {
   "cell_type": "code",
   "execution_count": 5,
   "metadata": {},
   "outputs": [],
   "source": [
    "def derivee(v,t):\n",
    "    # Initialisation de la dérivée\n",
    "    dv = np.empty(v.shape)\n",
    "    # Dérivée de la vitesse\n",
    "    dv[0] = v[2]\n",
    "    dv[1] = v[3]\n",
    "    r = np.sqrt( v[0] ** 2 + v[1] ** 2 )\n",
    "    dv[2] = -( G * M * v[0] ) / r ** 3\n",
    "    dv[3] = -( G * M * v[1] ) / r ** 3\n",
    "\n",
    "    return dv"
   ]
  },
  {
   "cell_type": "code",
   "execution_count": 163,
   "metadata": {},
   "outputs": [],
   "source": [
    "x_0 = 1 # Position initial\n",
    "y_0 = 0\n",
    "v_x_0 = 0\n",
    "v_y_0 = 4 # Tangencial speed\n",
    "\n",
    "# x0, y0, vx0, vy0\n",
    "X0 = [ x_0, y_0, v_x_0, v_y_0]\n",
    "\n",
    "t0 = 0.\n",
    "tf = 1\n",
    "tau = .001"
   ]
  },
  {
   "cell_type": "code",
   "execution_count": 164,
   "metadata": {},
   "outputs": [
    {
     "data": {
      "image/png": "[encoded data removed]",
      "text/plain": [
       "<Figure size 432x288 with 2 Axes>"
      ]
     },
     "metadata": {
      "needs_background": "light"
     },
     "output_type": "display_data"
    }
   ],
   "source": [
    "t = np.arange(t0, tf, tau)\n",
    "\n",
    "X = odeint(derivee, X0, t)\n",
    "x = X[:,0] \n",
    "y = X[:,1]\n",
    "\n",
    "vx = X[:,2] # values at any given time index\n",
    "vy = X[:,3]\n",
    "\n",
    "plt.subplot(2,1,1)\n",
    "plt.title(r'Using odeint with $x$ = %g, $v_y$ = %g, and $\\tau$ = %g' \\\n",
    "      % (x_0,v_y_0,tau))\n",
    "plt.plot(x,y)\n",
    "\n",
    "centerx = 0.\n",
    "centery = 0.\n",
    "plt.plot(centerx,centery,'ko')\n",
    "plt.axis('equal')\n",
    "plt.grid()\n",
    "\n",
    "plt.subplot(2,1,2)\n",
    "eps = (1/2) *(vx**2 + vy**2) - G * M/np.sqrt(x**2 + y**2)\n",
    "plt.plot(t,eps)\n",
    "eps_plot_min = 1.1 * np.min(eps)\n",
    "plt.axis([np.min(t),np.max(t),eps_plot_min,0])\n",
    "plt.xlabel('t')\n",
    "plt.ylabel('E/m')\n",
    "plt.grid()\n",
    "\n",
    "plt.show()"
   ]
  },
  {
   "cell_type": "code",
   "execution_count": 166,
   "metadata": {},
   "outputs": [
    {
     "data": {
      "image/png": "[encoded data removed]",
      "text/plain": [
       "<Figure size 432x288 with 2 Axes>"
      ]
     },
     "metadata": {
      "needs_background": "light"
     },
     "output_type": "display_data"
    }
   ],
   "source": [
    "def Euler(start, end, step, v_ini, derivee):\n",
    "    '''\n",
    "        Application de la méthode d'Euler\n",
    "    '''\n",
    "    # Création du tableau temps\n",
    "    interval = end - start                     # Intervalle\n",
    "    num_points = int(interval / step) + 1      # Nombre d'éléments\n",
    "    t = np.linspace(start, end, num_points)    # Tableau temps t\n",
    "\n",
    "    # Initialisation du tableau v\n",
    "    v = np.empty((4, num_points))\n",
    "\n",
    "    # Condition initiale\n",
    "    v[:, 0] = v_ini \n",
    "\n",
    "    # Boucle for\n",
    "    for i in range(num_points - 1):\n",
    "        v[:, i + 1] = v[:, i] + step * derivee(v[:, i], t[i])\n",
    "\n",
    "    # Argument de sortie\n",
    "    return t, v\n",
    "\n",
    "# Méthode d'Euler\n",
    "t, v = Euler(t0, tf, tau, X0, derivee)\n",
    "\n",
    "x = v[0,:] \n",
    "y = v[1,:]\n",
    "\n",
    "plt.subplot(2,1,1)\n",
    "plt.title(r'Using Euler with $x$ = %g, $v_y$ = %g, and $\\tau$ = %g' \\\n",
    "      % (x_0,v_y_0,tau))\n",
    "plt.plot(x,y)\n",
    "centerx = 0.\n",
    "centery = 0.\n",
    "plt.plot(centerx,centery,'ko')\n",
    "plt.axis('equal')\n",
    "plt.grid()\n",
    "\n",
    "\n",
    "plt.subplot(2,1,2)\n",
    "vx = v[2,:] # values at any given time index\n",
    "vy = v[3,:]\n",
    "eps = (1/2) *(vx**2 + vy**2) - G * M/np.sqrt(x**2 + y**2)\n",
    "plt.plot(t,eps)\n",
    "eps_plot_min = 1.1 * np.min(eps)\n",
    "plt.axis([np.min(t),np.max(t),eps_plot_min,0])\n",
    "plt.xlabel('t')\n",
    "plt.ylabel('E/m')\n",
    "plt.grid()\n",
    "\n",
    "plt.show()"
   ]
  },
  {
   "cell_type": "code",
   "execution_count": 162,
   "metadata": {},
   "outputs": [
    {
     "data": {
      "image/png": "[encoded data removed]",
      "text/plain": [
       "<Figure size 432x288 with 2 Axes>"
      ]
     },
     "metadata": {
      "needs_background": "light"
     },
     "output_type": "display_data"
    }
   ],
   "source": [
    "def rk4(start, end, step, v_ini, derivee, ordre):\n",
    "    '''\n",
    "        Application de la méthode rk4\n",
    "    '''\n",
    "    # Création du tableau temps\n",
    "    interval = end - start                     # Intervalle\n",
    "    num_points = int(interval / step) + 1      # Nombre d'éléments\n",
    "    t = np.linspace(start, end, num_points)    # Tableau temps t\n",
    "\n",
    "    # Initialisation du tableau v\n",
    "    v = np.empty((ordre, num_points))\n",
    "\n",
    "    # Condition initiale\n",
    "    v[:, 0] = v_ini \n",
    "\n",
    "    # Boucle for\n",
    "    for i in range(num_points - 1):\n",
    "        d1 = derivee(v[:, i], t[i])\n",
    "        d2 = derivee(v[:, i] + step / 2 * d1, t[i] + step / 2)\n",
    "        d3 = derivee(v[:, i] + step / 2 * d2, t[i] + step / 2)\n",
    "        d4 = derivee(v[:, i] + step * d3, t[i] + step)\n",
    "        v[:, i + 1] = v[:, i] + step / 6 * (d1 + 2 * d2 + 2 * d3 + d4)\n",
    "\n",
    "    # Argument de sortie\n",
    "    return t, v\n",
    "\n",
    "# Méthode d'Euler\n",
    "t, v = rk4(t0, tf, tau, X0, derivee, ordre=4)\n",
    "\n",
    "x = v[0,:] \n",
    "y = v[1,:]\n",
    "\n",
    "plt.subplot(2,1,1)\n",
    "plt.title(r'Using RK4 with $x$ = %g, $v_y$ = %g, and $\\tau$ = %g' \\\n",
    "      % (x_0,v_y_0,tau))\n",
    "plt.plot(x,y)\n",
    "centerx = 0.\n",
    "centery = 0.\n",
    "plt.plot(centerx,centery,'ko')\n",
    "plt.axis('equal')\n",
    "plt.grid()\n",
    "\n",
    "\n",
    "plt.subplot(2,1,2)\n",
    "vx = v[2,:] # values at any given time index\n",
    "vy = v[3,:]\n",
    "eps = (1/2) *(vx**2 + vy**2) - G * M/np.sqrt(x**2 + y**2)\n",
    "plt.plot(t,eps)\n",
    "eps_plot_min = 1.1 * np.min(eps)\n",
    "plt.axis([np.min(t),np.max(t),eps_plot_min,0])\n",
    "plt.xlabel('t')\n",
    "plt.ylabel('E/m')\n",
    "plt.grid()\n",
    "\n",
    "plt.show()"
   ]
  },
  {
   "cell_type": "markdown",
   "metadata": {},
   "source": [
    "\n",
    "## Ellipse\n",
    "\n",
    "Le mouvement d'un satellite porsuivre une trajectoire donnée par les sections coniques. On va s'intéresser pour des cas où la trajectoire donne comme résultat une ellipse.\n",
    "\n",
    "Soient $(d)$ une droite verticale qu'on appel `directrice`, $F$ un point qui n'appartient pas à $(di)$, qu'on appellarait `foyer`, $M$ un `point` sur l'ellipse, et $d$ comme la `distance` de $M$ jusqu'à $F$.\n",
    "\n",
    "<img src=\"https://upload.wikimedia.org/wikipedia/commons/thumb/c/ce/Ellipse_foyer_directrice2.svg/660px-Ellipse_foyer_directrice2.svg.png\" style=\"display:block;margin:auto;width:400px\" />\n",
    "\n",
    "À partir de ce raisonnement on peut trouver une rélacion qu'on appel l'`excentricité` $e$.\n",
    "\n",
    "$$\n",
    "e = \\frac{d(M,F)}{d(M,(d))}\n",
    "$$\n",
    "\n",
    "Dans l'ellipse on peut définir les grandeurs présents:\n",
    "\n",
    "- `a` demi grand axe\n",
    "- `b` demi petit axe\n",
    "- `c` distance entre le centre el le foyer\n",
    "- `h` distance avec la directrice et le foyer\n",
    "- `e` excentricité $\\in [0,1]$ \n",
    "- `p` demi lactus rectum\n",
    "\n",
    "<img src=\"https://upload.wikimedia.org/wikipedia/commons/thumb/7/72/EllipseVal.svg/880px-EllipseVal.svg.png\" style=\"display:block;margin:auto;width:400px\" >\n",
    "\n",
    "Dans le plane cartesienne, l'équation de l'ellipse est donné par: \n",
    "\n",
    "$$\n",
    "\\left( \\frac{x}{a} \\right)^2 + \\left( \\frac{y}{b} \\right)^2 = 1\n",
    "$$\n",
    "\n",
    "Avec $a \\gt b \\gt 0 $.\n",
    "\n",
    "La distance du centre jusqu'à l'une de foyers: \n",
    "\n",
    "$$\n",
    "c = \\sqrt{a^2 - b^2} \n",
    "$$\n",
    "\n",
    "L'excentricité $e$:\n",
    "\n",
    "$$\n",
    "e = \\frac{c}{a} = \\frac{ \\sqrt{a^2 - b^2} }{a} =  \\sqrt{ 1 - \\left(\\frac{b}{a}\\right)^2}\n",
    "$$"
   ]
  },
  {
   "cell_type": "code",
   "execution_count": null,
   "metadata": {},
   "outputs": [],
   "source": [
    "## Mon travail ce soir"
   ]
  },
  {
   "cell_type": "markdown",
   "metadata": {},
   "source": [
    "## Partie 2 - Analyse de la vitesse du satellite"
   ]
  },
  {
   "cell_type": "markdown",
   "metadata": {},
   "source": [
    "## Partie 3 - Analyse du transfert de Hohmann"
   ]
  }
 ],
 "metadata": {
  "interpreter": {
   "hash": "e3e3b631d0578064596570627667cf6d3255b0ded78241c485c6d8d72cb2b64f"
  },
  "kernelspec": {
   "display_name": "Python 3.9.5 ('base')",
   "language": "python",
   "name": "python3"
  },
  "language_info": {
   "codemirror_mode": {
    "name": "ipython",
    "version": 3
   },
   "file_extension": ".py",
   "mimetype": "text/x-python",
   "name": "python",
   "nbconvert_exporter": "python",
   "pygments_lexer": "ipython3",
   "version": "3.9.5"
  },
  "orig_nbformat": 4
 },
 "nbformat": 4,
 "nbformat_minor": 2
}
